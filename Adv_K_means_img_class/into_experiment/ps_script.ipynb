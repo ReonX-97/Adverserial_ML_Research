{
 "cells": [
  {
   "cell_type": "code",
   "execution_count": 2,
   "id": "b5bb47da",
   "metadata": {},
   "outputs": [],
   "source": [
    "import os\n",
    "import numpy as np\n",
    "import matplotlib.pyplot as plt\n",
    "\n",
    "from scipy.io import loadmat"
   ]
  },
  {
   "cell_type": "code",
   "execution_count": 3,
   "id": "e66da2c7",
   "metadata": {},
   "outputs": [],
   "source": [
    "PATH = os.path.join(\"..\", \"content\", \"mnist-original.mat\")"
   ]
  },
  {
   "cell_type": "code",
   "execution_count": 4,
   "id": "d0e3e8e0",
   "metadata": {},
   "outputs": [],
   "source": [
    "CLUSTERS = 856\n",
    "EPOCHS = 10\n",
    "IMG_SIZE = 28\n",
    "SAMPLES = 60000"
   ]
  },
  {
   "cell_type": "code",
   "execution_count": 5,
   "id": "e883ebed",
   "metadata": {},
   "outputs": [],
   "source": [
    "mnist = loadmat(PATH)\n",
    "mnist_data, mnist_label = np.array(mnist[\"data\"].T), np.array(mnist[\"label\"][0].T)\n",
    "train_mnist_data, test_mnist_data = mnist_data[:SAMPLES], mnist_data[SAMPLES:]\n",
    "train_mnist_label, test_mnist_label = mnist_label[:SAMPLES], mnist_label[SAMPLES:]"
   ]
  },
  {
   "cell_type": "markdown",
   "id": "090c1507",
   "metadata": {},
   "source": [
    "MAKING THE TARGET MODEL"
   ]
  },
  {
   "cell_type": "code",
   "execution_count": 6,
   "id": "b6d4d3f9",
   "metadata": {},
   "outputs": [],
   "source": [
    "from sklearn.cluster import KMeans\n",
    "from scipy.stats import mode"
   ]
  },
  {
   "cell_type": "code",
   "execution_count": 7,
   "id": "27db0723",
   "metadata": {},
   "outputs": [],
   "source": [
    "k_means = KMeans(n_clusters=CLUSTERS, n_init=\"auto\", max_iter=EPOCHS, random_state=42)\n",
    "k_means.fit(train_mnist_data)\n",
    "pred_train_mnist_label = k_means.predict(train_mnist_data)"
   ]
  },
  {
   "cell_type": "code",
   "execution_count": 8,
   "id": "4690efc4",
   "metadata": {},
   "outputs": [],
   "source": [
    "cluster_labels = np.zeros(CLUSTERS, dtype=int)\n",
    "for i in range(CLUSTERS):\n",
    "    mask = pred_train_mnist_label == i\n",
    "    cluster_labels[i] = mode(train_mnist_label[mask], keepdims=True).mode[0]"
   ]
  },
  {
   "cell_type": "code",
   "execution_count": 10,
   "id": "ef7b0e4c",
   "metadata": {},
   "outputs": [
    {
     "name": "stdout",
     "output_type": "stream",
     "text": [
      "Accuracy: 94.01%\n"
     ]
    }
   ],
   "source": [
    "pred_test_mnist_label = k_means.predict(test_mnist_data)\n",
    "pred_test_mnist_label = cluster_labels[pred_test_mnist_label]\n",
    "\n",
    "accuracy = np.mean(pred_test_mnist_label == test_mnist_label)\n",
    "print(f\"Accuracy: {accuracy * 100:.2f}%\")"
   ]
  },
  {
   "cell_type": "markdown",
   "id": "e2d38ab2",
   "metadata": {},
   "source": [
    "MAKING THE SURROGATE MODEL"
   ]
  },
  {
   "cell_type": "code",
   "execution_count": 11,
   "id": "c689b389",
   "metadata": {},
   "outputs": [],
   "source": [
    "import torch\n",
    "import torch.nn as nn\n",
    "import torch.optim as optim\n",
    "from torch.utils.data import DataLoader, TensorDataset\n",
    "from torchvision import models\n",
    "import torch.nn.functional as F\n",
    "from sklearn.metrics import accuracy_score"
   ]
  },
  {
   "cell_type": "code",
   "execution_count": 12,
   "id": "a117afe7",
   "metadata": {},
   "outputs": [
    {
     "name": "stdout",
     "output_type": "stream",
     "text": [
      "Using device: cpu\n"
     ]
    }
   ],
   "source": [
    "device = torch.device('cuda' if torch.cuda.is_available() else 'cpu')\n",
    "print(f\"Using device: {device}\")"
   ]
  }
 ],
 "metadata": {
  "kernelspec": {
   "display_name": "virtual",
   "language": "python",
   "name": "python3"
  },
  "language_info": {
   "codemirror_mode": {
    "name": "ipython",
    "version": 3
   },
   "file_extension": ".py",
   "mimetype": "text/x-python",
   "name": "python",
   "nbconvert_exporter": "python",
   "pygments_lexer": "ipython3",
   "version": "3.13.7"
  }
 },
 "nbformat": 4,
 "nbformat_minor": 5
}
