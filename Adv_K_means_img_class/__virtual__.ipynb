{
 "cells": [
  {
   "cell_type": "code",
   "execution_count": 1,
   "id": "7c2b4c62",
   "metadata": {},
   "outputs": [],
   "source": [
    "!python -m venv ./virtual"
   ]
  },
  {
   "cell_type": "code",
   "execution_count": 1,
   "id": "851d7f9b",
   "metadata": {},
   "outputs": [
    {
     "name": "stdout",
     "output_type": "stream",
     "text": [
      "Requirement already satisfied: pip in c:\\users\\reon\\onedrive\\desktop\\adverserial ml\\virtual\\lib\\site-packages (25.2)\n"
     ]
    }
   ],
   "source": [
    "!python -m pip install --upgrade pip"
   ]
  },
  {
   "cell_type": "code",
   "execution_count": 1,
   "id": "6dc7f486",
   "metadata": {},
   "outputs": [
    {
     "name": "stdout",
     "output_type": "stream",
     "text": [
      "Requirement already satisfied: scikit-learn in c:\\users\\reon\\onedrive\\desktop\\adverserial ml\\virtual\\lib\\site-packages (from -r requirements.txt (line 4)) (1.7.2)\n",
      "Requirement already satisfied: adversarial-robustness-toolbox in c:\\users\\reon\\onedrive\\desktop\\adverserial ml\\virtual\\lib\\site-packages (from -r requirements.txt (line 5)) (1.20.1)\n",
      "Requirement already satisfied: torch in c:\\users\\reon\\onedrive\\desktop\\adverserial ml\\virtual\\lib\\site-packages (from -r requirements.txt (line 8)) (2.8.0)\n",
      "Requirement already satisfied: torchvision in c:\\users\\reon\\onedrive\\desktop\\adverserial ml\\virtual\\lib\\site-packages (from -r requirements.txt (line 9)) (0.23.0)\n",
      "Requirement already satisfied: numpy in c:\\users\\reon\\onedrive\\desktop\\adverserial ml\\virtual\\lib\\site-packages (from -r requirements.txt (line 10)) (2.2.6)\n",
      "Requirement already satisfied: matplotlib in c:\\users\\reon\\onedrive\\desktop\\adverserial ml\\virtual\\lib\\site-packages (from -r requirements.txt (line 11)) (3.10.6)\n",
      "Requirement already satisfied: tqdm in c:\\users\\reon\\onedrive\\desktop\\adverserial ml\\virtual\\lib\\site-packages (from -r requirements.txt (line 12)) (4.67.1)\n",
      "Requirement already satisfied: opencv-python in c:\\users\\reon\\onedrive\\desktop\\adverserial ml\\virtual\\lib\\site-packages (from -r requirements.txt (line 13)) (4.12.0.88)\n",
      "Requirement already satisfied: scipy>=1.8.0 in c:\\users\\reon\\onedrive\\desktop\\adverserial ml\\virtual\\lib\\site-packages (from scikit-learn->-r requirements.txt (line 4)) (1.16.2)\n",
      "Requirement already satisfied: joblib>=1.2.0 in c:\\users\\reon\\onedrive\\desktop\\adverserial ml\\virtual\\lib\\site-packages (from scikit-learn->-r requirements.txt (line 4)) (1.5.2)\n",
      "Requirement already satisfied: threadpoolctl>=3.1.0 in c:\\users\\reon\\onedrive\\desktop\\adverserial ml\\virtual\\lib\\site-packages (from scikit-learn->-r requirements.txt (line 4)) (3.6.0)\n",
      "Requirement already satisfied: six in c:\\users\\reon\\onedrive\\desktop\\adverserial ml\\virtual\\lib\\site-packages (from adversarial-robustness-toolbox->-r requirements.txt (line 5)) (1.17.0)\n",
      "Requirement already satisfied: setuptools in c:\\users\\reon\\onedrive\\desktop\\adverserial ml\\virtual\\lib\\site-packages (from adversarial-robustness-toolbox->-r requirements.txt (line 5)) (80.9.0)\n",
      "Requirement already satisfied: filelock in c:\\users\\reon\\onedrive\\desktop\\adverserial ml\\virtual\\lib\\site-packages (from torch->-r requirements.txt (line 8)) (3.19.1)\n",
      "Requirement already satisfied: typing-extensions>=4.10.0 in c:\\users\\reon\\onedrive\\desktop\\adverserial ml\\virtual\\lib\\site-packages (from torch->-r requirements.txt (line 8)) (4.15.0)\n",
      "Requirement already satisfied: sympy>=1.13.3 in c:\\users\\reon\\onedrive\\desktop\\adverserial ml\\virtual\\lib\\site-packages (from torch->-r requirements.txt (line 8)) (1.14.0)\n",
      "Requirement already satisfied: networkx in c:\\users\\reon\\onedrive\\desktop\\adverserial ml\\virtual\\lib\\site-packages (from torch->-r requirements.txt (line 8)) (3.5)\n",
      "Requirement already satisfied: jinja2 in c:\\users\\reon\\onedrive\\desktop\\adverserial ml\\virtual\\lib\\site-packages (from torch->-r requirements.txt (line 8)) (3.1.6)\n",
      "Requirement already satisfied: fsspec in c:\\users\\reon\\onedrive\\desktop\\adverserial ml\\virtual\\lib\\site-packages (from torch->-r requirements.txt (line 8)) (2025.9.0)\n",
      "Requirement already satisfied: pillow!=8.3.*,>=5.3.0 in c:\\users\\reon\\onedrive\\desktop\\adverserial ml\\virtual\\lib\\site-packages (from torchvision->-r requirements.txt (line 9)) (11.3.0)\n",
      "Requirement already satisfied: contourpy>=1.0.1 in c:\\users\\reon\\onedrive\\desktop\\adverserial ml\\virtual\\lib\\site-packages (from matplotlib->-r requirements.txt (line 11)) (1.3.3)\n",
      "Requirement already satisfied: cycler>=0.10 in c:\\users\\reon\\onedrive\\desktop\\adverserial ml\\virtual\\lib\\site-packages (from matplotlib->-r requirements.txt (line 11)) (0.12.1)\n",
      "Requirement already satisfied: fonttools>=4.22.0 in c:\\users\\reon\\onedrive\\desktop\\adverserial ml\\virtual\\lib\\site-packages (from matplotlib->-r requirements.txt (line 11)) (4.60.0)\n",
      "Requirement already satisfied: kiwisolver>=1.3.1 in c:\\users\\reon\\onedrive\\desktop\\adverserial ml\\virtual\\lib\\site-packages (from matplotlib->-r requirements.txt (line 11)) (1.4.9)\n",
      "Requirement already satisfied: packaging>=20.0 in c:\\users\\reon\\onedrive\\desktop\\adverserial ml\\virtual\\lib\\site-packages (from matplotlib->-r requirements.txt (line 11)) (25.0)\n",
      "Requirement already satisfied: pyparsing>=2.3.1 in c:\\users\\reon\\onedrive\\desktop\\adverserial ml\\virtual\\lib\\site-packages (from matplotlib->-r requirements.txt (line 11)) (3.2.5)\n",
      "Requirement already satisfied: python-dateutil>=2.7 in c:\\users\\reon\\onedrive\\desktop\\adverserial ml\\virtual\\lib\\site-packages (from matplotlib->-r requirements.txt (line 11)) (2.9.0.post0)\n",
      "Requirement already satisfied: colorama in c:\\users\\reon\\onedrive\\desktop\\adverserial ml\\virtual\\lib\\site-packages (from tqdm->-r requirements.txt (line 12)) (0.4.6)\n",
      "Requirement already satisfied: mpmath<1.4,>=1.1.0 in c:\\users\\reon\\onedrive\\desktop\\adverserial ml\\virtual\\lib\\site-packages (from sympy>=1.13.3->torch->-r requirements.txt (line 8)) (1.3.0)\n",
      "Requirement already satisfied: MarkupSafe>=2.0 in c:\\users\\reon\\onedrive\\desktop\\adverserial ml\\virtual\\lib\\site-packages (from jinja2->torch->-r requirements.txt (line 8)) (3.0.2)\n"
     ]
    }
   ],
   "source": [
    "!python -m pip install -r requirements.txt"
   ]
  }
 ],
 "metadata": {
  "kernelspec": {
   "display_name": "virtual",
   "language": "python",
   "name": "python3"
  },
  "language_info": {
   "codemirror_mode": {
    "name": "ipython",
    "version": 3
   },
   "file_extension": ".py",
   "mimetype": "text/x-python",
   "name": "python",
   "nbconvert_exporter": "python",
   "pygments_lexer": "ipython3",
   "version": "3.13.7"
  }
 },
 "nbformat": 4,
 "nbformat_minor": 5
}
